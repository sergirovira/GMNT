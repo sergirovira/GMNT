{
 "cells": [
  {
   "cell_type": "code",
   "execution_count": 7,
   "metadata": {},
   "outputs": [],
   "source": [
    "def g(P,Q,S,vervose = True):\n",
    "    if P == Q: \n",
    "        a = P.curve().a4()\n",
    "        b = P.curve().a6()\n",
    "        num = (3*pow(P[0],2) + a)\n",
    "        den = (2*P[1])\n",
    "        slope = num/den\n",
    "    else:\n",
    "        if Q[0] - P[0] == 0: \n",
    "            if vervose: print 'x - ',str(P[0])\n",
    "            return S[0] - P[0]\n",
    "        else:\n",
    "            slope = (Q[1]-P[1])/(Q[0]-P[0]) \n",
    "        \n",
    "    f1 = S[1] - P[1] - slope*(S[0]-P[0])\n",
    "    f2 = S[0] + P[0] + Q[0] - pow(slope,2)\n",
    "    if vervose: print 'y -',str(P[1]),'-',str(slope),'(x','-',str(P[0]),')','/','x + ',str(P[0]),'+',str(Q[0]),'-',str(pow(slope,2))\n",
    "    return f1/f2"
   ]
  },
  {
   "cell_type": "code",
   "execution_count": 13,
   "metadata": {},
   "outputs": [],
   "source": [
    "def miller(P,Q1,Q2,n,vervose=True):\n",
    "    i = n; j = 0; k = 1; v = {0:1,1:1}\n",
    "    \n",
    "    while i != 0:\n",
    "        \n",
    "        if vervose: print \"i = \", i, \", j = \", j, \", k = \",k, ', v = ', v\n",
    "        \n",
    "        if i % 2 == 0:\n",
    "            i = i/2\n",
    "            v[2*k] = v[k]*v[k]*g(k*P,k*P,Q1,vervose)/g(k*P,k*P,Q2,vervose)\n",
    "            k = 2*k\n",
    "        else:\n",
    "            i = i - 1\n",
    "            if j+k not in v:\n",
    "                v[j + k] = v[j]*v[k]*g(j*P,k*P,Q1,vervose)/g(j*P,k*P,Q2,vervose)\n",
    "            j = j + k\n",
    "    \n",
    "    if vervose: print \"Miller = \",v[j]\n",
    "    \n",
    "    return v[j]"
   ]
  },
  {
   "cell_type": "code",
   "execution_count": 18,
   "metadata": {},
   "outputs": [],
   "source": [
    "def weilpairing(P,Q,n,vervose = True):\n",
    "    no_candidates = [P,-Q,P-Q]; S = P\n",
    "    while S in no_candidates:\n",
    "        S = P.curve().random_point()\n",
    "        if vervose: print \"Random point S = \",S\n",
    "    \n",
    "    Q1 = Q + S\n",
    "    Q2 = S\n",
    "    \n",
    "    P1 = P - S\n",
    "    P2 = -S\n",
    "    \n",
    "    M1 = miller(P,Q1,Q2,n,vervose)\n",
    "    M2 = miller(Q,P1,P2,n,vervose)\n",
    "    \n",
    "    if vervose: \n",
    "        print 'f_P(Q+S)/f_P(S) = ',M1\n",
    "        print 'f_Q(P-S)/f_Q(-S) =',M2\n",
    "        print 'Weil pairing = ',M1/M2\n",
    "    \n",
    "    return M1/M2"
   ]
  },
  {
   "cell_type": "code",
   "execution_count": 12,
   "metadata": {},
   "outputs": [
    {
     "name": "stdout",
     "output_type": "stream",
     "text": [
      "S =  (584 : 320 : 1)\n",
      "i =  5 , j =  0 , k =  1 , v =  {0: 1, 1: 1}\n",
      "i =  4 , j =  1 , k =  1 , v =  {0: 1, 1: 1}\n",
      "y - 60 - 569 (x - 36 ) / x +  36 + 36 - 58\n",
      "y - 60 - 569 (x - 36 ) / x +  36 + 36 - 58\n",
      "i =  2 , j =  1 , k =  2 , v =  {0: 1, 1: 1, 2: 528}\n",
      "y - 626 - 443 (x - 617 ) / x +  617 + 617 - 8\n",
      "y - 626 - 443 (x - 617 ) / x +  617 + 617 - 8\n",
      "i =  1 , j =  1 , k =  4 , v =  {0: 1, 1: 1, 2: 528, 4: 62}\n",
      "x -  36\n",
      "x -  36\n",
      "i =  5 , j =  0 , k =  1 , v =  {0: 1, 1: 1}\n",
      "i =  4 , j =  1 , k =  1 , v =  {0: 1, 1: 1}\n",
      "y - 387 - 250 (x - 121 ) / x +  121 + 121 - 31\n",
      "y - 387 - 250 (x - 121 ) / x +  121 + 121 - 31\n",
      "i =  2 , j =  1 , k =  2 , v =  {0: 1, 1: 1, 2: 428}\n",
      "y - 583 - 600 (x - 420 ) / x +  420 + 420 - 330\n",
      "y - 583 - 600 (x - 420 ) / x +  420 + 420 - 330\n",
      "i =  1 , j =  1 , k =  4 , v =  {0: 1, 1: 1, 2: 428, 4: 287}\n",
      "x -  121\n",
      "x -  121\n",
      "f_P(Q+S)/f_P(S) =  451\n",
      "f_Q(P-S)/f_Q(-S) = 260\n",
      "Weil pairing =  242\n",
      "Sage Weil pairing =  242\n"
     ]
    }
   ],
   "source": [
    "E = EllipticCurve(GF(631),[30,34]); n = 5\n",
    "P = E(36,60)\n",
    "Q = E(121,387)\n",
    "weilpairing(P,Q,n,vervose = True)\n",
    "print \"Sage Weil pairing = \",P.weil_pairing(Q,n)"
   ]
  },
  {
   "cell_type": "code",
   "execution_count": 17,
   "metadata": {},
   "outputs": [
    {
     "name": "stdout",
     "output_type": "stream",
     "text": [
      "i =  5 , j =  0 , k =  1 , v =  {0: 1, 1: 1}\n",
      "i =  4 , j =  1 , k =  1 , v =  {0: 1, 1: 1}\n",
      "y - 6 - 4 (x - 3 ) / x +  3 + 3 - 5\n",
      "y - 6 - 4 (x - 3 ) / x +  3 + 3 - 5\n",
      "i =  2 , j =  1 , k =  2 , v =  {0: 1, 1: 1, 2: 1}\n",
      "y - 10 - 10 (x - 10 ) / x +  10 + 10 - 1\n",
      "y - 10 - 10 (x - 10 ) / x +  10 + 10 - 1\n",
      "i =  1 , j =  1 , k =  4 , v =  {0: 1, 1: 1, 2: 1, 4: 2}\n",
      "x -  3\n",
      "x -  3\n",
      "Miller =  5\n"
     ]
    },
    {
     "data": {
      "text/plain": [
       "5"
      ]
     },
     "execution_count": 17,
     "metadata": {},
     "output_type": "execute_result"
    }
   ],
   "source": [
    "E = EllipticCurve(GF(11),[-1,1]); E\n",
    "miller(E(3,6),E(1,1),E(0,1),5)"
   ]
  }
 ],
 "metadata": {
  "kernelspec": {
   "display_name": "SageMath 8.4",
   "language": "",
   "name": "sagemath"
  },
  "language_info": {
   "codemirror_mode": {
    "name": "ipython",
    "version": 2
   },
   "file_extension": ".py",
   "mimetype": "text/x-python",
   "name": "python",
   "nbconvert_exporter": "python",
   "pygments_lexer": "ipython2",
   "version": "2.7.15"
  }
 },
 "nbformat": 4,
 "nbformat_minor": 2
}
