{
 "cells": [
  {
   "cell_type": "code",
   "execution_count": 1,
   "metadata": {},
   "outputs": [],
   "source": [
    "import hashlib\n",
    "import random\n",
    "from sage.crypto.util import ascii_to_bin\n",
    "from sage.crypto.util import bin_to_ascii\n",
    "from sage.misc.prandom import randrange\n",
    "from sage.crypto.util import ascii_integer"
   ]
  },
  {
   "cell_type": "code",
   "execution_count": 2,
   "metadata": {},
   "outputs": [],
   "source": [
    "def HTR(ID,p,hashfcn):\n",
    "    hashfcn.update(str(ID))\n",
    "    h = int(hashfcn.hexdigest(),16)\n",
    "    intTomod = mod(h,p)\n",
    "    return intTomod\n",
    "\n",
    "def HashToPoint(E,p,q,ID,hashfcn):\n",
    "    y = HTR(ID,p,hashfcn)\n",
    "    x = (y^2 - 1)^((2*p-1)/3) % p\n",
    "    Q2 = E(x,y)\n",
    "    Q = (int((p + 1)/q))*Q2\n",
    "    return Q\n",
    "\n",
    "def rand_point(E,r):\n",
    "    P = E.random_point()\n",
    "    P2 = (12*r)*P\n",
    "    if P2 == 0: return -1\n",
    "    return P2\n",
    "\n",
    "def custom_xor(a,b,l):\n",
    "    num = []\n",
    "    for i in range(0,l): \n",
    "        num.append((int(a[i]) + int(b[i])) % 2)\n",
    "    return \"\".join(map(str,num))"
   ]
  },
  {
   "cell_type": "code",
   "execution_count": 3,
   "metadata": {},
   "outputs": [],
   "source": [
    "def setup_basic(sec_n):\n",
    "    if sec_n == 1024: n_p = 512; n_q = 160; hashfcn = hashlib.sha1()\n",
    "    if sec_n == 2048: n_p = 1024; n_q = 224; hashfcn = hashlib.sha224()\n",
    "    if sec_n == 3072: n_p = 1536; n_q = 256; hashfcn = hashlib.sha256()\n",
    "    if sec_n == 7680: n_p = 3840; n_q = 284; hashfcn = hashlib.sha384()\n",
    "    if sec_n == 15360: n_p = 7680; n_q = 512; hashfcn = hashlib.sha512()\n",
    "\n",
    "    aux = -1\n",
    "    \n",
    "    while(aux == -1):\n",
    "    \n",
    "        q = random_prime(pow(2,n_q)-1,False,pow(2,n_q - 1))\n",
    "        \n",
    "        print \"bits q = \",q.nbits()\n",
    "        \n",
    "        l = n_p - n_q - 4 + 1\n",
    "    \n",
    "        r = random.randint(2^(l-1),2^l)\n",
    "        p = 12*r*q - 1\n",
    "    \n",
    "        while not p.is_prime():\n",
    "            r = random.randint(2^(l-1),2^l)\n",
    "            p = 12*r*q - 1\n",
    "            \n",
    "        print \"bits p \",p.nbits()\n",
    "\n",
    "        E = EllipticCurve(GF(p),[0,1]);\n",
    "        \n",
    "        aux = rand_point(E,q)\n",
    "        \n",
    "    P = aux\n",
    "    \n",
    "    s = random.randint(2,q-1)\n",
    "    Ppub = s*P\n",
    "    \n",
    "    params = E,p,q,P,Ppub,hashfcn,s\n",
    "    \n",
    "    return params\n",
    "\n",
    "def extract_basic(ID, E,p,q,hashfcn, s):\n",
    "    Qid = HashToPoint(E,p,q,ID,hashfcn)\n",
    "    return s*Qid\n",
    "\n",
    "def encryption_basic(ID,E,p,q,P,Ppub,hashfcn,M):\n",
    "    \n",
    "    if len(M) % 8 > 0: pad = 8 - len(M) % 8; M = M + (' ' * pad) \n",
    "        \n",
    "    bin = BinaryStrings()\n",
    "    M = bin.encoding(M)\n",
    "    \n",
    "    M = Integer(str(M),base=2).binary()\n",
    "        \n",
    "    r = random.randint(1,q-1)\n",
    "    \n",
    "    Qid = HashToPoint(E,p,q,ID,hashfcn)\n",
    "    \n",
    "    Fp2 = GF(p^2,'a')\n",
    "    omega = Fp2.zeta(3)\n",
    "\n",
    "    Ep2 = EllipticCurve(Fp2,[0,1])\n",
    "    \n",
    "    P2 = Ep2((Qid[0],Qid[1]))\n",
    "    \n",
    "    betaQ = Ep2(omega*Qid[0],Qid[1])\n",
    "    \n",
    "    gID = P2.weil_pairing(betaQ,p+1)\n",
    "    \n",
    "    gIDr = pow(gID,r)\n",
    "    \n",
    "    C1 = r*P\n",
    "    \n",
    "    H2 =  ZZ(HTR(gIDr,q,hashfcn)).binary()\n",
    "    \n",
    "    C2 = custom_xor(M,H2,len(M))\n",
    "    \n",
    "    return C1,C2"
   ]
  },
  {
   "cell_type": "code",
   "execution_count": 7,
   "metadata": {},
   "outputs": [
    {
     "name": "stdout",
     "output_type": "stream",
     "text": [
      "bits q =  160\n",
      "bits p  512\n",
      "(6992276133570884251429096472801222715653885360772076189674453188403753574096855628553841998597275540810511195458776829407775923387674944828706786168440937 : 7108272669308311428805871328340208593942690725835014017808309038258469313449382143445852631626915662525456196835939953880994876014556647157813613105199540 : 1) 000000000010110110001100111100111011011001011010101101010011101\n"
     ]
    }
   ],
   "source": [
    "n = 1024\n",
    "\n",
    "E,p,q,P,Ppub,hashfcn,s = setup_basic(n)\n",
    "Sid = extract_basic(\"sergi\",E,p,q,hashfcn,s)\n",
    "C1,C2 = encryption_basic(\"sergi\",E,p,q,P,Ppub,hashfcn,\"sergi\")  \n",
    "print C1,C2"
   ]
  },
  {
   "cell_type": "code",
   "execution_count": 8,
   "metadata": {},
   "outputs": [
    {
     "ename": "ValueError",
     "evalue": "points must both be n-torsion",
     "output_type": "error",
     "traceback": [
      "\u001b[0;31m---------------------------------------------------------------------------\u001b[0m",
      "\u001b[0;31mValueError\u001b[0m                                Traceback (most recent call last)",
      "\u001b[0;32m<ipython-input-8-c6af6ca6eb95>\u001b[0m in \u001b[0;36m<module>\u001b[0;34m()\u001b[0m\n\u001b[1;32m     17\u001b[0m     \u001b[0;32mprint\u001b[0m \u001b[0mlen\u001b[0m\u001b[0;34m(\u001b[0m\u001b[0mH2\u001b[0m\u001b[0;34m)\u001b[0m\u001b[0;34m\u001b[0m\u001b[0m\n\u001b[1;32m     18\u001b[0m \u001b[0;34m\u001b[0m\u001b[0m\n\u001b[0;32m---> 19\u001b[0;31m \u001b[0mdecrypt_basic\u001b[0m\u001b[0;34m(\u001b[0m\u001b[0mE\u001b[0m\u001b[0;34m,\u001b[0m\u001b[0mp\u001b[0m\u001b[0;34m,\u001b[0m\u001b[0mq\u001b[0m\u001b[0;34m,\u001b[0m\u001b[0mP\u001b[0m\u001b[0;34m,\u001b[0m\u001b[0mPpub\u001b[0m\u001b[0;34m,\u001b[0m\u001b[0mhashfcn\u001b[0m\u001b[0;34m,\u001b[0m\u001b[0mC1\u001b[0m\u001b[0;34m,\u001b[0m\u001b[0mC2\u001b[0m\u001b[0;34m,\u001b[0m\u001b[0mSid\u001b[0m\u001b[0;34m)\u001b[0m\u001b[0;34m\u001b[0m\u001b[0m\n\u001b[0m",
      "\u001b[0;32m<ipython-input-8-c6af6ca6eb95>\u001b[0m in \u001b[0;36mdecrypt_basic\u001b[0;34m(E, p, q, P, Ppub, hashfcn, C1, C2, Sid)\u001b[0m\n\u001b[1;32m     10\u001b[0m     \u001b[0mbetaC1\u001b[0m \u001b[0;34m=\u001b[0m \u001b[0mEp2\u001b[0m\u001b[0;34m(\u001b[0m\u001b[0momega\u001b[0m\u001b[0;34m*\u001b[0m\u001b[0mC1\u001b[0m\u001b[0;34m[\u001b[0m\u001b[0mInteger\u001b[0m\u001b[0;34m(\u001b[0m\u001b[0;36m0\u001b[0m\u001b[0;34m)\u001b[0m\u001b[0;34m]\u001b[0m\u001b[0;34m,\u001b[0m\u001b[0mC1\u001b[0m\u001b[0;34m[\u001b[0m\u001b[0mInteger\u001b[0m\u001b[0;34m(\u001b[0m\u001b[0;36m1\u001b[0m\u001b[0;34m)\u001b[0m\u001b[0;34m]\u001b[0m\u001b[0;34m)\u001b[0m\u001b[0;34m\u001b[0m\u001b[0m\n\u001b[1;32m     11\u001b[0m \u001b[0;34m\u001b[0m\u001b[0m\n\u001b[0;32m---> 12\u001b[0;31m     \u001b[0mfID\u001b[0m \u001b[0;34m=\u001b[0m \u001b[0mP2\u001b[0m\u001b[0;34m.\u001b[0m\u001b[0mweil_pairing\u001b[0m\u001b[0;34m(\u001b[0m\u001b[0mbetaC1\u001b[0m\u001b[0;34m,\u001b[0m\u001b[0mq\u001b[0m\u001b[0;34m)\u001b[0m\u001b[0;34m\u001b[0m\u001b[0m\n\u001b[0m\u001b[1;32m     13\u001b[0m \u001b[0;34m\u001b[0m\u001b[0m\n\u001b[1;32m     14\u001b[0m     \u001b[0mH2\u001b[0m \u001b[0;34m=\u001b[0m \u001b[0mZZ\u001b[0m\u001b[0;34m(\u001b[0m\u001b[0mHTR\u001b[0m\u001b[0;34m(\u001b[0m\u001b[0mfid\u001b[0m\u001b[0;34m,\u001b[0m\u001b[0mq\u001b[0m\u001b[0;34m,\u001b[0m\u001b[0mhashfcn\u001b[0m\u001b[0;34m)\u001b[0m\u001b[0;34m)\u001b[0m\u001b[0;34m.\u001b[0m\u001b[0mbinary\u001b[0m\u001b[0;34m(\u001b[0m\u001b[0;34m)\u001b[0m\u001b[0;34m\u001b[0m\u001b[0m\n",
      "\u001b[0;32m/opt/SageMath/local/lib/python2.7/site-packages/sage/schemes/elliptic_curves/ell_point.pyc\u001b[0m in \u001b[0;36mweil_pairing\u001b[0;34m(self, Q, n)\u001b[0m\n\u001b[1;32m   1619\u001b[0m         \u001b[0;31m# Test if P, Q are both in E[n]\u001b[0m\u001b[0;34m\u001b[0m\u001b[0;34m\u001b[0m\u001b[0m\n\u001b[1;32m   1620\u001b[0m         \u001b[0;32mif\u001b[0m \u001b[0;32mnot\u001b[0m \u001b[0;34m(\u001b[0m\u001b[0;34m(\u001b[0m\u001b[0mn\u001b[0m\u001b[0;34m*\u001b[0m\u001b[0mP\u001b[0m\u001b[0;34m)\u001b[0m\u001b[0;34m.\u001b[0m\u001b[0mis_zero\u001b[0m\u001b[0;34m(\u001b[0m\u001b[0;34m)\u001b[0m \u001b[0;32mand\u001b[0m \u001b[0;34m(\u001b[0m\u001b[0mn\u001b[0m\u001b[0;34m*\u001b[0m\u001b[0mQ\u001b[0m\u001b[0;34m)\u001b[0m\u001b[0;34m.\u001b[0m\u001b[0mis_zero\u001b[0m\u001b[0;34m(\u001b[0m\u001b[0;34m)\u001b[0m\u001b[0;34m)\u001b[0m\u001b[0;34m:\u001b[0m\u001b[0;34m\u001b[0m\u001b[0m\n\u001b[0;32m-> 1621\u001b[0;31m             \u001b[0;32mraise\u001b[0m \u001b[0mValueError\u001b[0m\u001b[0;34m(\u001b[0m\u001b[0;34m\"points must both be n-torsion\"\u001b[0m\u001b[0;34m)\u001b[0m\u001b[0;34m\u001b[0m\u001b[0m\n\u001b[0m\u001b[1;32m   1622\u001b[0m \u001b[0;34m\u001b[0m\u001b[0m\n\u001b[1;32m   1623\u001b[0m         \u001b[0mone\u001b[0m \u001b[0;34m=\u001b[0m \u001b[0mE\u001b[0m\u001b[0;34m.\u001b[0m\u001b[0mbase_field\u001b[0m\u001b[0;34m(\u001b[0m\u001b[0;34m)\u001b[0m\u001b[0;34m.\u001b[0m\u001b[0mone\u001b[0m\u001b[0;34m(\u001b[0m\u001b[0;34m)\u001b[0m\u001b[0;34m\u001b[0m\u001b[0m\n",
      "\u001b[0;31mValueError\u001b[0m: points must both be n-torsion"
     ]
    }
   ],
   "source": [
    "def decrypt_basic(E,p,q,P,Ppub,hashfcn,C1,C2,Sid):\n",
    "    \n",
    "    Fp2 = GF(p^2,'a')\n",
    "    omega = Fp2.zeta(3)\n",
    "\n",
    "    Ep2 = EllipticCurve(Fp2,[0,1])\n",
    "    \n",
    "    P2 = Ep2((Sid[0],Sid[1]))\n",
    "    \n",
    "    betaC1 = Ep2(omega*C1[0],C1[1])\n",
    "    \n",
    "    fID = P2.weil_pairing(betaC1,q)\n",
    "    \n",
    "    H2 = ZZ(HTR(fid,q,hashfcn)).binary()\n",
    "    \n",
    "    print len(C2)\n",
    "    print len(H2)\n",
    "\n",
    "decrypt_basic(E,p,q,P,Ppub,hashfcn,C1,C2,Sid)"
   ]
  },
  {
   "cell_type": "code",
   "execution_count": null,
   "metadata": {},
   "outputs": [],
   "source": []
  }
 ],
 "metadata": {
  "kernelspec": {
   "display_name": "SageMath 8.4",
   "language": "",
   "name": "sagemath"
  },
  "language_info": {
   "codemirror_mode": {
    "name": "ipython",
    "version": 2
   },
   "file_extension": ".py",
   "mimetype": "text/x-python",
   "name": "python",
   "nbconvert_exporter": "python",
   "pygments_lexer": "ipython2",
   "version": "2.7.15"
  }
 },
 "nbformat": 4,
 "nbformat_minor": 2
}
